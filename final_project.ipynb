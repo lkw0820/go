{
  "nbformat": 4,
  "nbformat_minor": 0,
  "metadata": {
    "colab": {
      "provenance": [],
      "authorship_tag": "ABX9TyNJzPHg+5rnC1LEG5cKOUa2",
      "include_colab_link": true
    },
    "kernelspec": {
      "name": "python3",
      "display_name": "Python 3"
    },
    "language_info": {
      "name": "python"
    }
  },
  "cells": [
    {
      "cell_type": "markdown",
      "metadata": {
        "id": "view-in-github",
        "colab_type": "text"
      },
      "source": [
        "<a href=\"https://colab.research.google.com/github/lkw0820/go/blob/master/final_project.ipynb\" target=\"_parent\"><img src=\"https://colab.research.google.com/assets/colab-badge.svg\" alt=\"Open In Colab\"/></a>"
      ]
    },
    {
      "cell_type": "markdown",
      "source": [
        "csv 로드 -> 병합 -> 지역별로 그룹화 -> 날짜순으로 정렬"
      ],
      "metadata": {
        "id": "n_-2KFsK8Kt_"
      }
    },
    {
      "cell_type": "code",
      "execution_count": null,
      "metadata": {
        "colab": {
          "base_uri": "https://localhost:8080/"
        },
        "id": "7YsQX9MW3F30",
        "outputId": "dfb7c851-a3c8-48a7-988e-e8a7adf7d987"
      },
      "outputs": [
        {
          "output_type": "stream",
          "name": "stdout",
          "text": [
            "                 일시   구분  미세먼지(PM10)  초미세먼지(PM25)\n",
            "0  2011-12-31 23:00   평균        89.0         61.0\n",
            "1  2011-12-31 23:00  강남구        91.0         58.0\n",
            "2  2011-12-31 23:00  강동구        89.0         59.0\n",
            "3  2011-12-31 23:00  강북구        68.0         49.0\n",
            "4  2011-12-31 23:00  강서구        79.0         69.0\n",
            "Empty DataFrame\n",
            "Columns: [일시, 구분, 미세먼지(PM10), 초미세먼지(PM25)]\n",
            "Index: []\n"
          ]
        }
      ],
      "source": [
        "import pandas as pd\n",
        "df1 = pd.read_csv('/content/서울시 대기질 자료 제공_2008-2011.csv', encoding = 'CP949', header=0)\n",
        "df2 = pd.read_csv('/content/서울시 대기질 자료 제공_2012-2015.csv', encoding = 'CP949', header=0)\n",
        "df3 = pd.read_csv('/content/서울시 대기질 자료 제공_2016-2019.csv', encoding = 'CP949', header=0)\n",
        "df4 = pd.read_csv('/content/서울시 대기질 자료 제공_2020-2021.csv', encoding = 'CP949', header=0)\n",
        "#print(df1.head(10))\n",
        "#병합\n",
        "#df8_15 = pd.merge(df1,df2)\n",
        "df8_15 = pd.concat([df1,df2],axis=0)\n",
        "print(df8_15.head())\n",
        "df16_22 = pd.merge(df3,df4)\n",
        "df = pd.merge(df8_15,df16_22)\n",
        "print(df.head(10))\n",
        "#그룹화\n",
        "#df=df8_22.groupby(['구분'])\n",
        "\n",
        "#정렬\n",
        "#df=df.sort_values(by='일시', ascending=True)\n",
        "\n",
        "#df.to_csv('/content/서울시 대기질 자료 제공 _2008-2021.csv', encoding = 'CP949', header=0)\n",
        "\n"
      ]
    },
    {
      "cell_type": "code",
      "source": [],
      "metadata": {
        "id": "gtXdnKXHjiLX"
      },
      "execution_count": null,
      "outputs": []
    }
  ]
}